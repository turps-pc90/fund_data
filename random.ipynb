{
 "cells": [
  {
   "attachments": {},
   "cell_type": "markdown",
   "metadata": {},
   "source": [
    "# Random Numbers in NumPy\n",
    "------------------------------"
   ]
  },
  {
   "attachments": {},
   "cell_type": "markdown",
   "metadata": {},
   "source": [
    "## NumPy\n",
    "-------\n",
    "\n",
    "\n",
    ">[Random Sampling](https://numpy.org/doc/stable/reference/random/index.html#module-numpy.random)"
   ]
  },
  {
   "cell_type": "code",
   "execution_count": 2,
   "metadata": {},
   "outputs": [],
   "source": [
    "# Library Imports\n",
    "import numpy as np\n",
    "\n",
    "# Initialise the random number generator\n",
    "rng = np.random.default_rng()\n",
    "\n",
    "\n",
    "\n",
    "\n",
    "\n",
    "#rng.integers(low=10, high=50, size = 7)"
   ]
  },
  {
   "cell_type": "code",
   "execution_count": 3,
   "metadata": {},
   "outputs": [
    {
     "data": {
      "text/plain": [
       "0.15391613127461878"
      ]
     },
     "execution_count": 3,
     "metadata": {},
     "output_type": "execute_result"
    }
   ],
   "source": [
    "# Generate random floating point numbers in the interval (0.0) included to 1.0 (excluded)\n",
    "rng.random()"
   ]
  },
  {
   "cell_type": "code",
   "execution_count": 4,
   "metadata": {},
   "outputs": [
    {
     "data": {
      "text/plain": [
       "array([ 0.19792837,  0.17007264,  0.40898886, -1.21004477,  0.65432507,\n",
       "       -0.53610963, -0.04968817,  1.13906676,  1.56888006,  0.40432152])"
      ]
     },
     "execution_count": 4,
     "metadata": {},
     "output_type": "execute_result"
    }
   ],
   "source": [
    "# Generate numbers on a standard Normal districution, mean is 0.0 and standard deviation is 1.0\n",
    "rng.standard_normal(10)"
   ]
  },
  {
   "attachments": {},
   "cell_type": "markdown",
   "metadata": {},
   "source": []
  },
  {
   "attachments": {},
   "cell_type": "markdown",
   "metadata": {},
   "source": []
  },
  {
   "attachments": {},
   "cell_type": "markdown",
   "metadata": {},
   "source": [
    "## Python Standard Library\n",
    "-------------------\n",
    "\n",
    "> [Random](https://docs.python.org/3/library/random.html)"
   ]
  },
  {
   "cell_type": "code",
   "execution_count": 5,
   "metadata": {},
   "outputs": [],
   "source": [
    "# Library Imports\n",
    "# Random Module From Standard Python Library\n",
    "import random"
   ]
  },
  {
   "cell_type": "code",
   "execution_count": 6,
   "metadata": {},
   "outputs": [
    {
     "data": {
      "text/plain": [
       "14"
      ]
     },
     "execution_count": 6,
     "metadata": {},
     "output_type": "execute_result"
    }
   ],
   "source": [
    "random.randint(10,20)\n",
    "# Putting question mark ahead of function should produce a help message. \n",
    "# ?random.randint"
   ]
  },
  {
   "cell_type": "code",
   "execution_count": 7,
   "metadata": {},
   "outputs": [
    {
     "name": "stdout",
     "output_type": "stream",
     "text": [
      "[6, 3, 7, 9, 8, 8, 2, 6, 3, 5]\n"
     ]
    }
   ],
   "source": [
    "# Generate a list of 100 random integers between 1 and 10\n",
    "L = [random.randint(1,10) for i in range(100)]\n",
    "print(L[:10]) # L[:10] shows first ten results"
   ]
  },
  {
   "cell_type": "code",
   "execution_count": 8,
   "metadata": {},
   "outputs": [
    {
     "data": {
      "text/plain": [
       "['Skoda',\n",
       " 'Seat',\n",
       " 'Saab',\n",
       " 'Hyundai',\n",
       " 'Ford',\n",
       " 'Mercedes',\n",
       " 'Hyundai',\n",
       " 'Volkswagen',\n",
       " 'BMW',\n",
       " 'Volkswagen']"
      ]
     },
     "execution_count": 8,
     "metadata": {},
     "output_type": "execute_result"
    }
   ],
   "source": [
    "# Makes of Car\n",
    "makes = ['Toyota', 'Mercedes', 'Nissan', 'Skoda', 'Porsche', 'Nissan', 'Hyundai', 'Ford', 'Saab', 'BMW', 'Audi', 'Volkswagen', 'Renault', 'Seat']\n",
    "\n",
    "# Select one at random\n",
    "random.choice(makes)\n",
    "\n",
    "# Select ten random makes\n",
    "random.choices(makes, k=10)\n",
    "\n",
    "# Shuffle"
   ]
  },
  {
   "cell_type": "code",
   "execution_count": 9,
   "metadata": {},
   "outputs": [
    {
     "name": "stdout",
     "output_type": "stream",
     "text": [
      "1: {'title': \"(I Can't Get No) Satisfaction\", 'artist': 'The Rolling Stones'}\n",
      "2: {'title': 'Sympathy for the Devil', 'artist': 'The Rolling Stones'}\n",
      "3: {'title': 'Gimme Shelter', 'artist': 'The Rolling Stones'}\n",
      "4: {'title': 'You Shook Me All Night Long', 'artist': 'AC/DC'}\n",
      "5: {'title': 'Killing in the Name', 'artist': 'Rage Against The Machine'}\n",
      "6: {'title': 'Lonely Day', 'artist': 'System of a Down'}\n",
      "7: {'title': 'Aerials', 'artist': 'System of a Down'}\n",
      "8: {'title': 'Paint It, Black', 'artist': 'The Rolling Stones'}\n",
      "9: {'title': 'B.Y.O.B.', 'artist': 'System of a Down'}\n",
      "10: {'title': 'Brown Sugar', 'artist': 'The Rolling Stones'}\n",
      "11: {'title': 'Chop Suey!', 'artist': 'System of a Down'}\n",
      "12: {'title': 'Testify', 'artist': 'Rage Against The Machine'}\n",
      "13: {'title': 'Wake Up', 'artist': 'Rage Against The Machine'}\n",
      "14: {'title': 'Back in Black', 'artist': 'AC/DC'}\n",
      "15: {'title': 'Thunderstruck', 'artist': 'AC/DC'}\n",
      "16: {'title': 'Guerrilla Radio', 'artist': 'Rage Against The Machine'}\n",
      "17: {'title': 'Toxicity', 'artist': 'System of a Down'}\n",
      "18: {'title': 'Highway to Hell', 'artist': 'AC/DC'}\n",
      "19: {'title': 'Bulls on Parade', 'artist': 'Rage Against The Machine'}\n",
      "20: {'title': 'T.N.T.', 'artist': 'AC/DC'}\n"
     ]
    }
   ],
   "source": [
    "# List of popular rock songs to be shuffled\n",
    "popular_songs = {\n",
    "    1: {\n",
    "        'title': 'Highway to Hell',\n",
    "        'artist': 'AC/DC'\n",
    "    },\n",
    "    2: {\n",
    "        'title': 'Back in Black',\n",
    "        'artist': 'AC/DC'\n",
    "    },\n",
    "    3: {\n",
    "        'title': 'Thunderstruck',\n",
    "        'artist': 'AC/DC'\n",
    "    },\n",
    "    4: {\n",
    "        'title': 'You Shook Me All Night Long',\n",
    "        'artist': 'AC/DC'\n",
    "    },\n",
    "    5: {\n",
    "        'title': 'T.N.T.',\n",
    "        'artist': 'AC/DC'\n",
    "    },\n",
    "    6: {\n",
    "        'title': \"(I Can't Get No) Satisfaction\",\n",
    "        'artist': 'The Rolling Stones'\n",
    "    },\n",
    "    7: {\n",
    "        'title': 'Paint It, Black',\n",
    "        'artist': 'The Rolling Stones'\n",
    "    },\n",
    "    8: {\n",
    "        'title': 'Gimme Shelter',\n",
    "        'artist': 'The Rolling Stones'\n",
    "    },\n",
    "    9: {\n",
    "        'title': 'Sympathy for the Devil',\n",
    "        'artist': 'The Rolling Stones'\n",
    "    },\n",
    "    10: {\n",
    "        'title': 'Brown Sugar',\n",
    "        'artist': 'The Rolling Stones'\n",
    "    },\n",
    "    11: {\n",
    "        'title': 'Killing in the Name',\n",
    "        'artist': 'Rage Against The Machine'\n",
    "    },\n",
    "    12: {\n",
    "        'title': 'Bulls on Parade',\n",
    "        'artist': 'Rage Against The Machine'\n",
    "    },\n",
    "    13: {\n",
    "        'title': 'Wake Up',\n",
    "        'artist': 'Rage Against The Machine'\n",
    "    },\n",
    "    14: {\n",
    "        'title': 'Guerrilla Radio',\n",
    "        'artist': 'Rage Against The Machine'\n",
    "    },\n",
    "    15: {\n",
    "        'title': 'Testify',\n",
    "        'artist': 'Rage Against The Machine'\n",
    "    },\n",
    "    16: {\n",
    "        'title': 'Chop Suey!',\n",
    "        'artist': 'System of a Down'\n",
    "    },\n",
    "    17: {\n",
    "        'title': 'Toxicity',\n",
    "        'artist': 'System of a Down'\n",
    "    },\n",
    "    18: {\n",
    "        'title': 'Aerials',\n",
    "        'artist': 'System of a Down'\n",
    "    },\n",
    "    19: {\n",
    "        'title': 'B.Y.O.B.',\n",
    "        'artist': 'System of a Down'\n",
    "    },\n",
    "    20: {\n",
    "        'title': 'Lonely Day',\n",
    "        'artist': 'System of a Down'\n",
    "    }   \n",
    "}\n",
    "song_list = list(popular_songs.values())\n",
    "\n",
    "# Shuffle the songs\n",
    "random.shuffle(song_list)\n",
    "\n",
    "# Convert the list back to a dictionary\n",
    "shuffled_songs = {i + 1: song for i, song in enumerate(song_list)}\n",
    "\n",
    "# Print the shuffled songs\n",
    "for song_number, song_details in shuffled_songs.items():\n",
    "    print(f\"{song_number}: {song_details}\")"
   ]
  },
  {
   "attachments": {},
   "cell_type": "markdown",
   "metadata": {},
   "source": [
    "\n",
    "## Plotting Distribution\n",
    "---------------------\n"
   ]
  },
  {
   "cell_type": "code",
   "execution_count": 10,
   "metadata": {},
   "outputs": [],
   "source": [
    "# Lowest integer allowed \n",
    "low = 1\n",
    "\n",
    "# Highest integer allowed\n",
    "high = 10\n",
    "\n",
    "# Number of integers to generate\n",
    "size = 10000"
   ]
  },
  {
   "cell_type": "code",
   "execution_count": 11,
   "metadata": {},
   "outputs": [
    {
     "data": {
      "text/plain": [
       "array([3, 7, 8, ..., 3, 8, 8], dtype=int64)"
      ]
     },
     "execution_count": 11,
     "metadata": {},
     "output_type": "execute_result"
    }
   ],
   "source": [
    "# Generate a list of random integers\n",
    "rand_ints = rng.integers(low=low, high=high + 1, size=size)\n",
    "\n",
    "# Show\n",
    "rand_ints"
   ]
  },
  {
   "attachments": {},
   "cell_type": "markdown",
   "metadata": {},
   "source": [
    "### Matplotlib Barcharts & Histograms\n",
    "-----------------\n",
    "> [Barcharts Documentation](https://matplotlib.org/stable/api/_as_gen/matplotlib.pyplot.bar.html) - matplotlib.pyplot.bar(x, height, width=0.8, bottom=None, *, align='center', data=None, **kwargs)\n",
    "\n",
    "> [Histogram Documentation](https://matplotlib.org/stable/api/_as_gen/matplotlib.pyplot.hist.html) - matplotlib.pyplot.hist(x, bins=None, range=None, density=False, weights=None, cumulative=False, bottom=None, histtype='bar', align='mid', orientation='vertical', rwidth=None, log=False, color=None, label=None, stacked=False, *, data=None, **kwargs)\n",
    "\n",
    "> [NumPy Unique Documentation](https://numpy.org/doc/stable/reference/generated/numpy.unique.html) - To find unique elements of an array"
   ]
  },
  {
   "cell_type": "code",
   "execution_count": 12,
   "metadata": {},
   "outputs": [
    {
     "data": {
      "text/plain": [
       "(array([ 1,  2,  3,  4,  5,  6,  7,  8,  9, 10], dtype=int64),\n",
       " array([ 987,  998,  933,  997,  982, 1022, 1025,  992, 1033, 1031],\n",
       "       dtype=int64))"
      ]
     },
     "execution_count": 12,
     "metadata": {},
     "output_type": "execute_result"
    }
   ],
   "source": [
    "# Finding unique elements of rand_ints\n",
    "np.unique(rand_ints)\n",
    "\n",
    "# Finding unique elements of rand_ints and number of times each element is returned\n",
    "np.unique(rand_ints, return_counts=True)"
   ]
  },
  {
   "cell_type": "code",
   "execution_count": 13,
   "metadata": {},
   "outputs": [
    {
     "data": {
      "text/plain": [
       "(array([ 1,  2,  3,  4,  5,  6,  7,  8,  9, 10], dtype=int64),\n",
       " array([ 987,  998,  933,  997,  982, 1022, 1025,  992, 1033, 1031],\n",
       "       dtype=int64))"
      ]
     },
     "execution_count": 13,
     "metadata": {},
     "output_type": "execute_result"
    }
   ],
   "source": [
    "x, counts = np.unique(rand_ints, return_counts=True)\n",
    "\n",
    "# Show the x and counts arrays\n",
    "x, counts"
   ]
  },
  {
   "cell_type": "markdown",
   "metadata": {},
   "source": [
    "### Plotting Bar Chart\n",
    "--------------"
   ]
  },
  {
   "cell_type": "code",
   "execution_count": 14,
   "metadata": {},
   "outputs": [
    {
     "data": {
      "text/plain": [
       "<BarContainer object of 10 artists>"
      ]
     },
     "execution_count": 14,
     "metadata": {},
     "output_type": "execute_result"
    },
    {
     "data": {
      "image/png": "[encoded data removed]",
      "text/plain": [
       "<Figure size 1200x300 with 1 Axes>"
      ]
     },
     "metadata": {},
     "output_type": "display_data"
    }
   ],
   "source": [
    "# Library Imports\n",
    "import matplotlib.pyplot as plt\n",
    "\n",
    "# Create an empty plot. \n",
    "fig, ax = plt.subplots(figsize=(12, 3))\n",
    "\n",
    "# Plot bar chart.\n",
    "ax.bar(x, counts)"
   ]
  },
  {
   "cell_type": "markdown",
   "metadata": {},
   "source": [
    "### Plotting Histograms\n",
    "---------------"
   ]
  },
  {
   "cell_type": "code",
   "execution_count": 15,
   "metadata": {},
   "outputs": [],
   "source": [
    "# Number of floating point numbers to generate\n",
    "size = 100"
   ]
  },
  {
   "cell_type": "code",
   "execution_count": 16,
   "metadata": {},
   "outputs": [
    {
     "data": {
      "text/plain": [
       "array([0.56004273, 0.84207176, 0.15184109, 0.82297687, 0.75988505,\n",
       "       0.17085901, 0.63216398, 0.42924973, 0.75418326, 0.31625294,\n",
       "       0.09018302, 0.18599719, 0.14651792, 0.07255423, 0.98217787,\n",
       "       0.61822593, 0.0076654 , 0.35189265, 0.70367564, 0.16078434,\n",
       "       0.46725725, 0.2834083 , 0.90565277, 0.03634522, 0.93544558,\n",
       "       0.95799542, 0.32403483, 0.17873588, 0.97743188, 0.39446234,\n",
       "       0.24407885, 0.47399399, 0.06209759, 0.04300128, 0.43269377,\n",
       "       0.71786   , 0.99670267, 0.75871244, 0.42556317, 0.88207508,\n",
       "       0.00189381, 0.27701115, 0.88645085, 0.45239736, 0.60589403,\n",
       "       0.57946987, 0.79247846, 0.02882944, 0.19839242, 0.7987789 ,\n",
       "       0.97975253, 0.96474732, 0.44215463, 0.63699987, 0.08868863,\n",
       "       0.37672893, 0.10945455, 0.14481409, 0.17542293, 0.06850948,\n",
       "       0.02929672, 0.4929609 , 0.53637852, 0.14254491, 0.41085727,\n",
       "       0.12659634, 0.35866546, 0.74072284, 0.28145242, 0.48823659,\n",
       "       0.48485857, 0.61534737, 0.32402039, 0.22431035, 0.57836676,\n",
       "       0.25241648, 0.83258555, 0.92325707, 0.27856314, 0.16880994,\n",
       "       0.44308785, 0.60291009, 0.08451678, 0.62649318, 0.52144716,\n",
       "       0.47951935, 0.05399284, 0.40395716, 0.68743418, 0.88294465,\n",
       "       0.54787681, 0.74593462, 0.79787578, 0.82142376, 0.0248422 ,\n",
       "       0.69400261, 0.56978652, 0.20580239, 0.06082057, 0.70558891])"
      ]
     },
     "execution_count": 16,
     "metadata": {},
     "output_type": "execute_result"
    }
   ],
   "source": [
    "# Generate random floating point numbers in the interval 0.0 (included) to 1.0 (excluded)\n",
    "rand_floats = rng.random(size)\n",
    "\n",
    "# Show rand_floats\n",
    "rand_floats"
   ]
  },
  {
   "cell_type": "markdown",
   "metadata": {},
   "source": [
    "#### Using A Histogram"
   ]
  },
  {
   "cell_type": "code",
   "execution_count": 17,
   "metadata": {},
   "outputs": [
    {
     "data": {
      "text/plain": [
       "(array([15., 13.,  8.,  7., 14.,  7.,  9.,  9.,  9.,  9.]),\n",
       " array([0.00189381, 0.10137469, 0.20085558, 0.30033646, 0.39981735,\n",
       "        0.49929824, 0.59877912, 0.69826001, 0.7977409 , 0.89722178,\n",
       "        0.99670267]),\n",
       " <BarContainer object of 10 artists>)"
      ]
     },
     "execution_count": 17,
     "metadata": {},
     "output_type": "execute_result"
    },
    {
     "data": {
      "image/png": "[encoded data removed]",
      "text/plain": [
       "<Figure size 1200x300 with 1 Axes>"
      ]
     },
     "metadata": {},
     "output_type": "display_data"
    }
   ],
   "source": [
    "# Create an empty plot. \n",
    "fig, ax = plt.subplots(figsize=(12, 3))\n",
    "\n",
    "# Plot a histogram.\n",
    "ax.hist(rand_floats)"
   ]
  },
  {
   "cell_type": "markdown",
   "metadata": {},
   "source": [
    "## Normal Looking Data\n",
    "-------------"
   ]
  },
  {
   "cell_type": "code",
   "execution_count": 18,
   "metadata": {},
   "outputs": [],
   "source": [
    "# Generate numbers on a standard Normal distribution\n",
    "rand_normal = rng.standard_normal(100000)"
   ]
  },
  {
   "cell_type": "code",
   "execution_count": 19,
   "metadata": {},
   "outputs": [
    {
     "data": {
      "image/png": "[encoded data removed]",
      "text/plain": [
       "<Figure size 1500x500 with 1 Axes>"
      ]
     },
     "metadata": {},
     "output_type": "display_data"
    }
   ],
   "source": [
    "# Create an empty plot\n",
    "fig, ax = plt.subplots(figsize=(15, 5))\n",
    "\n",
    "# Plot histogram - use ';' at end of function to hide output\n",
    "ax.hist(rand_normal, bins= 1000);"
   ]
  },
  {
   "cell_type": "markdown",
   "metadata": {},
   "source": [
    "## Two Plots in One\n",
    "------"
   ]
  },
  {
   "cell_type": "markdown",
   "metadata": {},
   "source": [
    "### Normal Distribution / Gaussian Formula\n",
    "\n",
    "> **Normal PDF**\n",
    "> #### $$ f(x) = \\frac{1}{\\sigma \\sqrt{2 \\pi}} e^{-\\frac{1}{2} \\big( \\frac{x - \\mu}{\\sigma} \\big)^2} $$"
   ]
  },
  {
   "cell_type": "markdown",
   "metadata": {},
   "source": [
    "> **Standard Normal PDF**\n",
    "> #### $$ f(x) = \\frac{1}{\\sqrt{2 \\pi}} e^{-\\frac{x^2}{2} (x^2)} $$"
   ]
  },
  {
   "cell_type": "code",
   "execution_count": 20,
   "metadata": {},
   "outputs": [],
   "source": [
    "# x should be a NumPy array\n",
    "def f(x):\n",
    "    A = 1.0 / np.sqrt(2.0 * np.pi)\n",
    "    B = np.exp(-(x**2) / 2.0)\n",
    "    return A * B"
   ]
  },
  {
   "cell_type": "code",
   "execution_count": 21,
   "metadata": {},
   "outputs": [
    {
     "data": {
      "text/plain": [
       "0.3989422804014327"
      ]
     },
     "execution_count": 21,
     "metadata": {},
     "output_type": "execute_result"
    }
   ],
   "source": [
    "# Test value around 0.0\n",
    "f(0.0)"
   ]
  },
  {
   "cell_type": "code",
   "execution_count": 22,
   "metadata": {},
   "outputs": [
    {
     "data": {
      "text/plain": [
       "0.0044318484119380075"
      ]
     },
     "execution_count": 22,
     "metadata": {},
     "output_type": "execute_result"
    }
   ],
   "source": [
    "# Test value around 3.0\n",
    "f(3.0)"
   ]
  },
  {
   "cell_type": "code",
   "execution_count": 26,
   "metadata": {},
   "outputs": [
    {
     "data": {
      "text/plain": [
       "[<matplotlib.lines.Line2D at 0x19436692020>]"
      ]
     },
     "execution_count": 26,
     "metadata": {},
     "output_type": "execute_result"
    },
    {
     "data": {
      "image/png": "[encoded data removed]",
      "text/plain": [
       "<Figure size 1200x400 with 1 Axes>"
      ]
     },
     "metadata": {},
     "output_type": "display_data"
    }
   ],
   "source": [
    "# Range of x values for plotting\n",
    "x = np.linspace(-5.0, 5.0, 1001)\n",
    "\n",
    "# Create empty plot\n",
    "fig, ax = plt.subplots(figsize=(12, 4))\n",
    "\n",
    "# Plot f(x)\n",
    "ax.plot (x, f(x))"
   ]
  },
  {
   "cell_type": "code",
   "execution_count": 25,
   "metadata": {},
   "outputs": [
    {
     "data": {
      "text/plain": [
       "[<matplotlib.lines.Line2D at 0x19436e384c0>]"
      ]
     },
     "execution_count": 25,
     "metadata": {},
     "output_type": "execute_result"
    },
    {
     "data": {
      "image/png": "[encoded data removed]",
      "text/plain": [
       "<Figure size 1200x400 with 1 Axes>"
      ]
     },
     "metadata": {},
     "output_type": "display_data"
    }
   ],
   "source": [
    "# Range of x values for plotting\n",
    "x = np.linspace(-5.0, 5.0, 1001)\n",
    "\n",
    "# Create empty plot\n",
    "fig, ax = plt.subplots(figsize=(12, 4))\n",
    "\n",
    "# Plot histogram -of randomly generated normal values from above\n",
    "ax.hist(rand_normal, bins= 100, density=True);\n",
    "\n",
    "# Plot f(x)\n",
    "ax.plot (x, f(x))\n",
    "\n"
   ]
  },
  {
   "attachments": {},
   "cell_type": "markdown",
   "metadata": {},
   "source": [
    "***\n",
    "#### End"
   ]
  }
 ],
 "metadata": {
  "kernelspec": {
   "display_name": "base",
   "language": "python",
   "name": "python3"
  },
  "language_info": {
   "codemirror_mode": {
    "name": "ipython",
    "version": 3
   },
   "file_extension": ".py",
   "mimetype": "text/x-python",
   "name": "python",
   "nbconvert_exporter": "python",
   "pygments_lexer": "ipython3",
   "version": "3.10.9"
  }
 },
 "nbformat": 4,
 "nbformat_minor": 2
}

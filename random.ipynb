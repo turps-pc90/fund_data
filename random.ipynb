{
 "cells": [
  {
   "attachments": {},
   "cell_type": "markdown",
   "metadata": {},
   "source": [
    "# Random Numbers in NumPy\n",
    "------------------------------"
   ]
  },
  {
   "attachments": {},
   "cell_type": "markdown",
   "metadata": {},
   "source": [
    "## NumPy\n",
    "-------\n",
    "\n",
    "\n",
    ">[Random Sampling](https://numpy.org/doc/stable/reference/random/index.html#module-numpy.random)"
   ]
  },
  {
   "cell_type": "code",
   "execution_count": 1,
   "metadata": {},
   "outputs": [],
   "source": [
    "# Library Imports\n",
    "import numpy as np\n",
    "\n",
    "# Initialise the random number generator\n",
    "rng = np.random.default_rng()\n",
    "\n",
    "\n",
    "\n",
    "\n",
    "\n",
    "#rng.integers(low=10, high=50, size = 7)"
   ]
  },
  {
   "cell_type": "code",
   "execution_count": 2,
   "metadata": {},
   "outputs": [
    {
     "data": {
      "text/plain": [
       "0.8420992491347837"
      ]
     },
     "execution_count": 2,
     "metadata": {},
     "output_type": "execute_result"
    }
   ],
   "source": [
    "# Generate random floating point numbers in the interval (0.0) included to 1.0 (excluded)\n",
    "rng.random()"
   ]
  },
  {
   "cell_type": "code",
   "execution_count": 3,
   "metadata": {},
   "outputs": [
    {
     "data": {
      "text/plain": [
       "array([ 0.57903722,  2.1212729 ,  0.54977082, -0.02627392, -1.22718589,\n",
       "        0.01528093,  1.74943354,  1.52305775,  1.46190715,  2.06648224])"
      ]
     },
     "execution_count": 3,
     "metadata": {},
     "output_type": "execute_result"
    }
   ],
   "source": [
    "# Generate numbers on a standard Normal districution, mean is 0.0 and standard deviation is 1.0\n",
    "rng.standard_normal(10)"
   ]
  },
  {
   "attachments": {},
   "cell_type": "markdown",
   "metadata": {},
   "source": []
  },
  {
   "attachments": {},
   "cell_type": "markdown",
   "metadata": {},
   "source": []
  },
  {
   "attachments": {},
   "cell_type": "markdown",
   "metadata": {},
   "source": [
    "## Python Standard Library\n",
    "-------------------\n",
    "\n",
    "> [Random](https://docs.python.org/3/library/random.html)"
   ]
  },
  {
   "cell_type": "code",
   "execution_count": 4,
   "metadata": {},
   "outputs": [],
   "source": [
    "# Library Imports\n",
    "# Random Module From Standard Python Library\n",
    "import random"
   ]
  },
  {
   "cell_type": "code",
   "execution_count": 5,
   "metadata": {},
   "outputs": [
    {
     "data": {
      "text/plain": [
       "12"
      ]
     },
     "execution_count": 5,
     "metadata": {},
     "output_type": "execute_result"
    }
   ],
   "source": [
    "random.randint(10,20)\n",
    "# Putting question mark ahead of function should produce a help message. \n",
    "# ?random.randint"
   ]
  },
  {
   "cell_type": "code",
   "execution_count": 6,
   "metadata": {},
   "outputs": [
    {
     "name": "stdout",
     "output_type": "stream",
     "text": [
      "[2, 6, 5, 9, 10, 9, 9, 1, 6, 6]\n"
     ]
    }
   ],
   "source": [
    "# Generate a list of 100 random integers between 1 and 10\n",
    "L = [random.randint(1,10) for i in range(100)]\n",
    "print(L[:10]) # L[:10] shows first ten results"
   ]
  },
  {
   "cell_type": "code",
   "execution_count": 7,
   "metadata": {},
   "outputs": [
    {
     "data": {
      "text/plain": [
       "['Seat',\n",
       " 'Seat',\n",
       " 'Renault',\n",
       " 'Mercedes',\n",
       " 'Seat',\n",
       " 'BMW',\n",
       " 'Nissan',\n",
       " 'Toyota',\n",
       " 'Ford',\n",
       " 'Audi']"
      ]
     },
     "execution_count": 7,
     "metadata": {},
     "output_type": "execute_result"
    }
   ],
   "source": [
    "# Makes of Car\n",
    "makes = ['Toyota', 'Mercedes', 'Nissan', 'Skoda', 'Porsche', 'Nissan', 'Hyundai', 'Ford', 'Saab', 'BMW', 'Audi', 'Volkswagen', 'Renault', 'Seat']\n",
    "\n",
    "# Select one at random\n",
    "random.choice(makes)\n",
    "\n",
    "# Select ten random makes\n",
    "random.choices(makes, k=10)\n",
    "\n",
    "# Shuffle"
   ]
  },
  {
   "cell_type": "code",
   "execution_count": 8,
   "metadata": {},
   "outputs": [
    {
     "name": "stdout",
     "output_type": "stream",
     "text": [
      "1: {'title': 'Thunderstruck', 'artist': 'AC/DC'}\n",
      "2: {'title': 'Lonely Day', 'artist': 'System of a Down'}\n",
      "3: {'title': \"(I Can't Get No) Satisfaction\", 'artist': 'The Rolling Stones'}\n",
      "4: {'title': 'Paint It, Black', 'artist': 'The Rolling Stones'}\n",
      "5: {'title': 'Wake Up', 'artist': 'Rage Against The Machine'}\n",
      "6: {'title': 'Sympathy for the Devil', 'artist': 'The Rolling Stones'}\n",
      "7: {'title': 'Brown Sugar', 'artist': 'The Rolling Stones'}\n",
      "8: {'title': 'Chop Suey!', 'artist': 'System of a Down'}\n",
      "9: {'title': 'Bulls on Parade', 'artist': 'Rage Against The Machine'}\n",
      "10: {'title': 'T.N.T.', 'artist': 'AC/DC'}\n",
      "11: {'title': 'B.Y.O.B.', 'artist': 'System of a Down'}\n",
      "12: {'title': 'Aerials', 'artist': 'System of a Down'}\n",
      "13: {'title': 'Highway to Hell', 'artist': 'AC/DC'}\n",
      "14: {'title': 'You Shook Me All Night Long', 'artist': 'AC/DC'}\n",
      "15: {'title': 'Toxicity', 'artist': 'System of a Down'}\n",
      "16: {'title': 'Gimme Shelter', 'artist': 'The Rolling Stones'}\n",
      "17: {'title': 'Testify', 'artist': 'Rage Against The Machine'}\n",
      "18: {'title': 'Back in Black', 'artist': 'AC/DC'}\n",
      "19: {'title': 'Guerrilla Radio', 'artist': 'Rage Against The Machine'}\n",
      "20: {'title': 'Killing in the Name', 'artist': 'Rage Against The Machine'}\n"
     ]
    }
   ],
   "source": [
    "# List of popular rock songs to be shuffled\n",
    "popular_songs = {\n",
    "    1: {\n",
    "        'title': 'Highway to Hell',\n",
    "        'artist': 'AC/DC'\n",
    "    },\n",
    "    2: {\n",
    "        'title': 'Back in Black',\n",
    "        'artist': 'AC/DC'\n",
    "    },\n",
    "    3: {\n",
    "        'title': 'Thunderstruck',\n",
    "        'artist': 'AC/DC'\n",
    "    },\n",
    "    4: {\n",
    "        'title': 'You Shook Me All Night Long',\n",
    "        'artist': 'AC/DC'\n",
    "    },\n",
    "    5: {\n",
    "        'title': 'T.N.T.',\n",
    "        'artist': 'AC/DC'\n",
    "    },\n",
    "    6: {\n",
    "        'title': \"(I Can't Get No) Satisfaction\",\n",
    "        'artist': 'The Rolling Stones'\n",
    "    },\n",
    "    7: {\n",
    "        'title': 'Paint It, Black',\n",
    "        'artist': 'The Rolling Stones'\n",
    "    },\n",
    "    8: {\n",
    "        'title': 'Gimme Shelter',\n",
    "        'artist': 'The Rolling Stones'\n",
    "    },\n",
    "    9: {\n",
    "        'title': 'Sympathy for the Devil',\n",
    "        'artist': 'The Rolling Stones'\n",
    "    },\n",
    "    10: {\n",
    "        'title': 'Brown Sugar',\n",
    "        'artist': 'The Rolling Stones'\n",
    "    },\n",
    "    11: {\n",
    "        'title': 'Killing in the Name',\n",
    "        'artist': 'Rage Against The Machine'\n",
    "    },\n",
    "    12: {\n",
    "        'title': 'Bulls on Parade',\n",
    "        'artist': 'Rage Against The Machine'\n",
    "    },\n",
    "    13: {\n",
    "        'title': 'Wake Up',\n",
    "        'artist': 'Rage Against The Machine'\n",
    "    },\n",
    "    14: {\n",
    "        'title': 'Guerrilla Radio',\n",
    "        'artist': 'Rage Against The Machine'\n",
    "    },\n",
    "    15: {\n",
    "        'title': 'Testify',\n",
    "        'artist': 'Rage Against The Machine'\n",
    "    },\n",
    "    16: {\n",
    "        'title': 'Chop Suey!',\n",
    "        'artist': 'System of a Down'\n",
    "    },\n",
    "    17: {\n",
    "        'title': 'Toxicity',\n",
    "        'artist': 'System of a Down'\n",
    "    },\n",
    "    18: {\n",
    "        'title': 'Aerials',\n",
    "        'artist': 'System of a Down'\n",
    "    },\n",
    "    19: {\n",
    "        'title': 'B.Y.O.B.',\n",
    "        'artist': 'System of a Down'\n",
    "    },\n",
    "    20: {\n",
    "        'title': 'Lonely Day',\n",
    "        'artist': 'System of a Down'\n",
    "    }   \n",
    "}\n",
    "song_list = list(popular_songs.values())\n",
    "\n",
    "# Shuffle the songs\n",
    "random.shuffle(song_list)\n",
    "\n",
    "# Convert the list back to a dictionary\n",
    "shuffled_songs = {i + 1: song for i, song in enumerate(song_list)}\n",
    "\n",
    "# Print the shuffled songs\n",
    "for song_number, song_details in shuffled_songs.items():\n",
    "    print(f\"{song_number}: {song_details}\")"
   ]
  },
  {
   "attachments": {},
   "cell_type": "markdown",
   "metadata": {},
   "source": [
    "\n",
    "## Plotting Distribution\n",
    "---------------------\n"
   ]
  },
  {
   "cell_type": "code",
   "execution_count": 9,
   "metadata": {},
   "outputs": [],
   "source": [
    "# Lowest integer allowed \n",
    "low = 1\n",
    "\n",
    "# Highest integer allowed\n",
    "high = 10\n",
    "\n",
    "# Number of integers to generate\n",
    "size = 10000"
   ]
  },
  {
   "cell_type": "code",
   "execution_count": 10,
   "metadata": {},
   "outputs": [
    {
     "data": {
      "text/plain": [
       "array([1, 1, 2, ..., 1, 1, 1], dtype=int64)"
      ]
     },
     "execution_count": 10,
     "metadata": {},
     "output_type": "execute_result"
    }
   ],
   "source": [
    "# Generate a list of random integers\n",
    "rand_ints = rng.integers(low=low, high=high + 1, size=size)\n",
    "\n",
    "# Show\n",
    "rand_ints"
   ]
  },
  {
   "attachments": {},
   "cell_type": "markdown",
   "metadata": {},
   "source": [
    "### Matplotlib Barcharts & Histograms\n",
    "-----------------\n",
    "> [Barcharts Documentation](https://matplotlib.org/stable/api/_as_gen/matplotlib.pyplot.bar.html) - matplotlib.pyplot.bar(x, height, width=0.8, bottom=None, *, align='center', data=None, **kwargs)\n",
    "\n",
    "> [Histogram Documentation](https://matplotlib.org/stable/api/_as_gen/matplotlib.pyplot.hist.html) - matplotlib.pyplot.hist(x, bins=None, range=None, density=False, weights=None, cumulative=False, bottom=None, histtype='bar', align='mid', orientation='vertical', rwidth=None, log=False, color=None, label=None, stacked=False, *, data=None, **kwargs)\n",
    "\n",
    "> [NumPy Unique Documentation](https://numpy.org/doc/stable/reference/generated/numpy.unique.html) - To find unique elements of an array"
   ]
  },
  {
   "cell_type": "code",
   "execution_count": 11,
   "metadata": {},
   "outputs": [
    {
     "data": {
      "text/plain": [
       "(array([ 1,  2,  3,  4,  5,  6,  7,  8,  9, 10], dtype=int64),\n",
       " array([1027,  940, 1023,  974, 1009,  968, 1065,  962,  971, 1061],\n",
       "       dtype=int64))"
      ]
     },
     "execution_count": 11,
     "metadata": {},
     "output_type": "execute_result"
    }
   ],
   "source": [
    "# Finding unique elements of rand_ints\n",
    "np.unique(rand_ints)\n",
    "\n",
    "# Finding unique elements of rand_ints and number of times each element is returned\n",
    "np.unique(rand_ints, return_counts=True)"
   ]
  },
  {
   "cell_type": "code",
   "execution_count": 12,
   "metadata": {},
   "outputs": [
    {
     "data": {
      "text/plain": [
       "(array([ 1,  2,  3,  4,  5,  6,  7,  8,  9, 10], dtype=int64),\n",
       " array([1027,  940, 1023,  974, 1009,  968, 1065,  962,  971, 1061],\n",
       "       dtype=int64))"
      ]
     },
     "execution_count": 12,
     "metadata": {},
     "output_type": "execute_result"
    }
   ],
   "source": [
    "x, counts = np.unique(rand_ints, return_counts=True)\n",
    "\n",
    "# Show the x and counts arrays\n",
    "x, counts"
   ]
  },
  {
   "cell_type": "markdown",
   "metadata": {},
   "source": [
    "### Plotting Bar Chart\n",
    "--------------"
   ]
  },
  {
   "cell_type": "code",
   "execution_count": 13,
   "metadata": {},
   "outputs": [
    {
     "data": {
      "text/plain": [
       "<BarContainer object of 10 artists>"
      ]
     },
     "execution_count": 13,
     "metadata": {},
     "output_type": "execute_result"
    },
    {
     "data": {
      "image/png": "[encoded data removed]",
      "text/plain": [
       "<Figure size 1200x300 with 1 Axes>"
      ]
     },
     "metadata": {},
     "output_type": "display_data"
    }
   ],
   "source": [
    "# Library Imports\n",
    "import matplotlib.pyplot as plt\n",
    "\n",
    "# Create an empty plot. \n",
    "fig, ax = plt.subplots(figsize=(12, 3))\n",
    "\n",
    "# Plot bar chart.\n",
    "ax.bar(x, counts)"
   ]
  },
  {
   "cell_type": "markdown",
   "metadata": {},
   "source": [
    "### Plotting Histograms\n",
    "---------------"
   ]
  },
  {
   "cell_type": "code",
   "execution_count": 14,
   "metadata": {},
   "outputs": [],
   "source": [
    "# Number of floating point numbers to generate\n",
    "size = 100"
   ]
  },
  {
   "cell_type": "code",
   "execution_count": 15,
   "metadata": {},
   "outputs": [
    {
     "data": {
      "text/plain": [
       "array([0.77754274, 0.38194727, 0.86373334, 0.51123173, 0.97833434,\n",
       "       0.23271409, 0.39082393, 0.96020633, 0.50154967, 0.40591716,\n",
       "       0.53617202, 0.52507157, 0.01249573, 0.20557669, 0.98358425,\n",
       "       0.77811641, 0.94112414, 0.37945631, 0.02226246, 0.97972768,\n",
       "       0.04066242, 0.95626745, 0.34634405, 0.68121864, 0.12152257,\n",
       "       0.27271207, 0.40385741, 0.22964765, 0.34840093, 0.80444118,\n",
       "       0.38607174, 0.2466336 , 0.13854185, 0.01640189, 0.57340613,\n",
       "       0.23245946, 0.58571119, 0.05770742, 0.72080165, 0.2176607 ,\n",
       "       0.14362559, 0.92995486, 0.31325152, 0.15658337, 0.72355015,\n",
       "       0.2322498 , 0.81552987, 0.41757364, 0.94301134, 0.15691076,\n",
       "       0.54476243, 0.49825637, 0.96401447, 0.09263218, 0.44399886,\n",
       "       0.53347901, 0.01055422, 0.09776586, 0.50771443, 0.80620821,\n",
       "       0.0931755 , 0.97886423, 0.90360441, 0.7614608 , 0.85941612,\n",
       "       0.48292582, 0.46000757, 0.56236858, 0.24671021, 0.59553997,\n",
       "       0.60461653, 0.25664786, 0.59886136, 0.35490446, 0.85412106,\n",
       "       0.67243439, 0.07099324, 0.31469623, 0.90873311, 0.53536449,\n",
       "       0.83817011, 0.70088672, 0.72427568, 0.87428407, 0.62916196,\n",
       "       0.9583483 , 0.11880913, 0.11644254, 0.19085202, 0.76324404,\n",
       "       0.00944928, 0.52534041, 0.48986612, 0.8047601 , 0.52394232,\n",
       "       0.02118422, 0.49098975, 0.1602473 , 0.05446308, 0.0498391 ])"
      ]
     },
     "execution_count": 15,
     "metadata": {},
     "output_type": "execute_result"
    }
   ],
   "source": [
    "# Generate random floating point numbers in the interval 0.0 (included) to 1.0 (excluded)\n",
    "rand_floats = rng.random(size)\n",
    "\n",
    "# Show rand_floats\n",
    "rand_floats"
   ]
  },
  {
   "cell_type": "markdown",
   "metadata": {},
   "source": [
    "#### Using A Histogram"
   ]
  },
  {
   "cell_type": "code",
   "execution_count": 16,
   "metadata": {},
   "outputs": [
    {
     "data": {
      "text/plain": [
       "(array([14.,  9., 10.,  9.,  8., 14.,  6.,  8.,  9., 13.]),\n",
       " array([0.00944928, 0.10686278, 0.20427627, 0.30168977, 0.39910327,\n",
       "        0.49651677, 0.59393026, 0.69134376, 0.78875726, 0.88617076,\n",
       "        0.98358425]),\n",
       " <BarContainer object of 10 artists>)"
      ]
     },
     "execution_count": 16,
     "metadata": {},
     "output_type": "execute_result"
    },
    {
     "data": {
      "image/png": "[encoded data removed]",
      "text/plain": [
       "<Figure size 1200x300 with 1 Axes>"
      ]
     },
     "metadata": {},
     "output_type": "display_data"
    }
   ],
   "source": [
    "# Create an empty plot. \n",
    "fig, ax = plt.subplots(figsize=(12, 3))\n",
    "\n",
    "# Plot a histogram.\n",
    "ax.hist(rand_floats)"
   ]
  },
  {
   "cell_type": "markdown",
   "metadata": {},
   "source": [
    "## Normal Looking Data\n",
    "-------------"
   ]
  },
  {
   "cell_type": "code",
   "execution_count": 17,
   "metadata": {},
   "outputs": [],
   "source": [
    "# Generate numbers on a standard Normal distribution\n",
    "rand_normal = rng.standard_normal(100000)"
   ]
  },
  {
   "cell_type": "code",
   "execution_count": 18,
   "metadata": {},
   "outputs": [
    {
     "data": {
      "image/png": "[encoded data removed]",
      "text/plain": [
       "<Figure size 1500x500 with 1 Axes>"
      ]
     },
     "metadata": {},
     "output_type": "display_data"
    }
   ],
   "source": [
    "# Create an empty plot\n",
    "fig, ax = plt.subplots(figsize=(15, 5))\n",
    "\n",
    "# Plot histogram - use ';' at end of function to hide output\n",
    "ax.hist(rand_normal, bins= 1000);"
   ]
  },
  {
   "attachments": {},
   "cell_type": "markdown",
   "metadata": {},
   "source": [
    "***\n",
    "#### End"
   ]
  }
 ],
 "metadata": {
  "kernelspec": {
   "display_name": "base",
   "language": "python",
   "name": "python3"
  },
  "language_info": {
   "codemirror_mode": {
    "name": "ipython",
    "version": 3
   },
   "file_extension": ".py",
   "mimetype": "text/x-python",
   "name": "python",
   "nbconvert_exporter": "python",
   "pygments_lexer": "ipython3",
   "version": "3.10.9"
  }
 },
 "nbformat": 4,
 "nbformat_minor": 2
}

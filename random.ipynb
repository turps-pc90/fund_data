{
 "cells": [
  {
   "cell_type": "markdown",
   "metadata": {},
   "source": [
    "# Random Numbers in NumPy"
   ]
  },
  {
   "cell_type": "markdown",
   "metadata": {},
   "source": [
    "## Python Standard Library\n",
    "\n",
    "> https://docs.python.org/3/library/random.html"
   ]
  },
  {
   "cell_type": "code",
   "execution_count": 1,
   "metadata": {},
   "outputs": [],
   "source": [
    "# Library Imports\n",
    "# Random Module From Standard Python Library\n",
    "import random"
   ]
  },
  {
   "cell_type": "code",
   "execution_count": 2,
   "metadata": {},
   "outputs": [
    {
     "data": {
      "text/plain": [
       "20"
      ]
     },
     "execution_count": 2,
     "metadata": {},
     "output_type": "execute_result"
    }
   ],
   "source": [
    "random.randint(10,20)\n",
    "# Putting question mark ahead of function should produce a help message. \n",
    "# ?random.randint"
   ]
  },
  {
   "cell_type": "code",
   "execution_count": 3,
   "metadata": {},
   "outputs": [
    {
     "name": "stdout",
     "output_type": "stream",
     "text": [
      "[1, 8, 8, 10, 8, 2, 3, 9, 1, 9]\n"
     ]
    }
   ],
   "source": [
    "# Generate a list of 100 random integers between 1 and 10\n",
    "L = [random.randint(1,10) for i in range(100)]\n",
    "print(L[:10]) # L[:10] shows first ten results"
   ]
  },
  {
   "cell_type": "code",
   "execution_count": 4,
   "metadata": {},
   "outputs": [
    {
     "data": {
      "text/plain": [
       "['Skoda',\n",
       " 'Porsche',\n",
       " 'BMW',\n",
       " 'Volkswagen',\n",
       " 'Ford',\n",
       " 'Hyundai',\n",
       " 'Volkswagen',\n",
       " 'Nissan',\n",
       " 'Hyundai',\n",
       " 'BMW']"
      ]
     },
     "execution_count": 4,
     "metadata": {},
     "output_type": "execute_result"
    }
   ],
   "source": [
    "# Makes of Car\n",
    "makes = ['Toyota', 'Mercedes', 'Nissan', 'Skoda', 'Porsche', 'Nissan', 'Hyundai', 'Ford', 'Saab', 'BMW', 'Audi', 'Volkswagen', 'Renault', 'Seat']\n",
    "\n",
    "# Select one at random\n",
    "random.choice(makes)\n",
    "\n",
    "# Select ten random makes\n",
    "random.choices(makes, k=10)\n",
    "\n",
    "# Shuffle"
   ]
  },
  {
   "cell_type": "code",
   "execution_count": 5,
   "metadata": {},
   "outputs": [
    {
     "name": "stdout",
     "output_type": "stream",
     "text": [
      "1: {'title': 'Lonely Day', 'artist': 'System of a Down'}\n",
      "2: {'title': 'Sympathy for the Devil', 'artist': 'The Rolling Stones'}\n",
      "3: {'title': 'Brown Sugar', 'artist': 'The Rolling Stones'}\n",
      "4: {'title': 'Wake Up', 'artist': 'Rage Against The Machine'}\n",
      "5: {'title': 'Aerials', 'artist': 'System of a Down'}\n",
      "6: {'title': 'Killing in the Name', 'artist': 'Rage Against The Machine'}\n",
      "7: {'title': 'You Shook Me All Night Long', 'artist': 'AC/DC'}\n",
      "8: {'title': 'Paint It, Black', 'artist': 'The Rolling Stones'}\n",
      "9: {'title': 'Chop Suey!', 'artist': 'System of a Down'}\n",
      "10: {'title': 'Guerrilla Radio', 'artist': 'Rage Against The Machine'}\n",
      "11: {'title': \"(I Can't Get No) Satisfaction\", 'artist': 'The Rolling Stones'}\n",
      "12: {'title': 'Highway to Hell', 'artist': 'AC/DC'}\n",
      "13: {'title': 'Toxicity', 'artist': 'System of a Down'}\n",
      "14: {'title': 'Back in Black', 'artist': 'AC/DC'}\n",
      "15: {'title': 'Thunderstruck', 'artist': 'AC/DC'}\n",
      "16: {'title': 'Gimme Shelter', 'artist': 'The Rolling Stones'}\n",
      "17: {'title': 'Testify', 'artist': 'Rage Against The Machine'}\n",
      "18: {'title': 'T.N.T.', 'artist': 'AC/DC'}\n",
      "19: {'title': 'Bulls on Parade', 'artist': 'Rage Against The Machine'}\n",
      "20: {'title': 'B.Y.O.B.', 'artist': 'System of a Down'}\n"
     ]
    }
   ],
   "source": [
    "# List of popular rock songs to be shuffled\n",
    "popular_songs = {\n",
    "    1: {\n",
    "        'title': 'Highway to Hell',\n",
    "        'artist': 'AC/DC'\n",
    "    },\n",
    "    2: {\n",
    "        'title': 'Back in Black',\n",
    "        'artist': 'AC/DC'\n",
    "    },\n",
    "    3: {\n",
    "        'title': 'Thunderstruck',\n",
    "        'artist': 'AC/DC'\n",
    "    },\n",
    "    4: {\n",
    "        'title': 'You Shook Me All Night Long',\n",
    "        'artist': 'AC/DC'\n",
    "    },\n",
    "    5: {\n",
    "        'title': 'T.N.T.',\n",
    "        'artist': 'AC/DC'\n",
    "    },\n",
    "    6: {\n",
    "        'title': \"(I Can't Get No) Satisfaction\",\n",
    "        'artist': 'The Rolling Stones'\n",
    "    },\n",
    "    7: {\n",
    "        'title': 'Paint It, Black',\n",
    "        'artist': 'The Rolling Stones'\n",
    "    },\n",
    "    8: {\n",
    "        'title': 'Gimme Shelter',\n",
    "        'artist': 'The Rolling Stones'\n",
    "    },\n",
    "    9: {\n",
    "        'title': 'Sympathy for the Devil',\n",
    "        'artist': 'The Rolling Stones'\n",
    "    },\n",
    "    10: {\n",
    "        'title': 'Brown Sugar',\n",
    "        'artist': 'The Rolling Stones'\n",
    "    },\n",
    "    11: {\n",
    "        'title': 'Killing in the Name',\n",
    "        'artist': 'Rage Against The Machine'\n",
    "    },\n",
    "    12: {\n",
    "        'title': 'Bulls on Parade',\n",
    "        'artist': 'Rage Against The Machine'\n",
    "    },\n",
    "    13: {\n",
    "        'title': 'Wake Up',\n",
    "        'artist': 'Rage Against The Machine'\n",
    "    },\n",
    "    14: {\n",
    "        'title': 'Guerrilla Radio',\n",
    "        'artist': 'Rage Against The Machine'\n",
    "    },\n",
    "    15: {\n",
    "        'title': 'Testify',\n",
    "        'artist': 'Rage Against The Machine'\n",
    "    },\n",
    "    16: {\n",
    "        'title': 'Chop Suey!',\n",
    "        'artist': 'System of a Down'\n",
    "    },\n",
    "    17: {\n",
    "        'title': 'Toxicity',\n",
    "        'artist': 'System of a Down'\n",
    "    },\n",
    "    18: {\n",
    "        'title': 'Aerials',\n",
    "        'artist': 'System of a Down'\n",
    "    },\n",
    "    19: {\n",
    "        'title': 'B.Y.O.B.',\n",
    "        'artist': 'System of a Down'\n",
    "    },\n",
    "    20: {\n",
    "        'title': 'Lonely Day',\n",
    "        'artist': 'System of a Down'\n",
    "    }   \n",
    "}\n",
    "song_list = list(popular_songs.values())\n",
    "\n",
    "# Shuffle the songs\n",
    "random.shuffle(song_list)\n",
    "\n",
    "# Convert the list back to a dictionary\n",
    "shuffled_songs = {i + 1: song for i, song in enumerate(song_list)}\n",
    "\n",
    "# Print the shuffled songs\n",
    "for song_number, song_details in shuffled_songs.items():\n",
    "    print(f\"{song_number}: {song_details}\")"
   ]
  },
  {
   "cell_type": "markdown",
   "metadata": {},
   "source": [
    "***\n",
    "#### End"
   ]
  }
 ],
 "metadata": {
  "kernelspec": {
   "display_name": "base",
   "language": "python",
   "name": "python3"
  },
  "language_info": {
   "codemirror_mode": {
    "name": "ipython",
    "version": 3
   },
   "file_extension": ".py",
   "mimetype": "text/x-python",
   "name": "python",
   "nbconvert_exporter": "python",
   "pygments_lexer": "ipython3",
   "version": "3.9.13"
  }
 },
 "nbformat": 4,
 "nbformat_minor": 2
}

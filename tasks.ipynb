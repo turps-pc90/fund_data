{
 "cells": [
  {
   "cell_type": "markdown",
   "metadata": {},
   "source": [
    "# Fundamentals of Data Analysis Tasks\n",
    "\n",
    "**Paul Callaghan**\n",
    "***"
   ]
  },
  {
   "cell_type": "markdown",
   "metadata": {},
   "source": [
    "## Task 1 - The Collatz Conjecture\n",
    "> The Collatz conjecture1 is a famous unsolved problem in mathematics. The problem is to prove that if you start with any positive\n",
    "> integer x and repeatedly apply the function $ f(x) $ below, you always get stuck in the repeating sequence 1, 4, 2, 1, 4, 2, .\n",
    "> \n",
    "> Your task is to verify, using Python, that the conjecture is true for the first 10,000 positive integers."
   ]
  },
  {
   "cell_type": "markdown",
   "metadata": {},
   "source": [
    "### x is user-inputted argument"
   ]
  },
  {
   "cell_type": "code",
   "execution_count": 1,
   "metadata": {},
   "outputs": [],
   "source": [
    "x = int(input(\"Enter a number between 1-10000\"))"
   ]
  },
  {
   "cell_type": "code",
   "execution_count": 2,
   "metadata": {},
   "outputs": [],
   "source": [
    "def f(x):\n",
    "    # If x is even, divide it by two.\n",
    "    if x % 2 == 0:\n",
    "        # // Integer division\n",
    "        return x // 2\n",
    "    else:\n",
    "        return (3 * x) + 1"
   ]
  },
  {
   "cell_type": "code",
   "execution_count": 3,
   "metadata": {},
   "outputs": [],
   "source": [
    "def collatz(x):\n",
    "    print(f'Testing Collatz Conjecture with initial (user-inputted) value {x}')    \n",
    "    while x != 1:\n",
    "        print(x, end=', ')\n",
    "        x = f(x)\n",
    "    print(x)    "
   ]
  },
  {
   "cell_type": "code",
   "execution_count": 4,
   "metadata": {},
   "outputs": [
    {
     "name": "stdout",
     "output_type": "stream",
     "text": [
      "Testing Collatz Conjecture with initial (user-inputted) value 53\n",
      "53, 160, 80, 40, 20, 10, 5, 16, 8, 4, 2, 1\n"
     ]
    }
   ],
   "source": [
    "collatz(x)"
   ]
  },
  {
   "cell_type": "markdown",
   "metadata": {},
   "source": [
    "### Testing Collatz Conjecture For Range: 1-10001 \n",
    "> Combining the code from Ian's lecture with a for loop and range of 1-10,001 to cover the first ten thousand positve integers"
   ]
  },
  {
   "cell_type": "code",
   "execution_count": 3,
   "metadata": {},
   "outputs": [
    {
     "name": "stdout",
     "output_type": "stream",
     "text": [
      "There are 10000 true results. There are 0 false results\n"
     ]
    }
   ],
   "source": [
    "def range_f(y):\n",
    "    # If y is even, divide it by two.\n",
    "    if y % 2 == 0:\n",
    "        # // Integer Division\n",
    "        return y // 2\n",
    "    else:\n",
    "        return (3 * y) + 1\n",
    "    \n",
    "def range_collatz(y):\n",
    "    while y != 1:\n",
    "        y = range_f(y)        \n",
    "    return True\n",
    "        \n",
    "        \n",
    "# Initialise count for number of true and false returns\n",
    "true_count = 0\n",
    "false_count = 0\n",
    "\n",
    "# Testing Collatz Conjecture for first 10,000 positive integers\n",
    "for i in range(1, 10001):\n",
    "    if range_collatz(i):\n",
    "        true_count += 1\n",
    "    else:\n",
    "        false_count += 1\n",
    "        \n",
    "\n",
    "# Printing counts\n",
    "print(f\"There are {true_count} true results. There are {false_count} false results\")\n",
    "    "
   ]
  },
  {
   "cell_type": "markdown",
   "metadata": {},
   "source": [
    "## Task 2 - The Penguin Dataset\n",
    "> Penguins Dataset sourced from https://github.com/mcnakhaee/palmerpenguins\n",
    "\n",
    ">**Give an overview of the famous penguins data set explaining the types of variables it contains. \n",
    "> Suggest the types of variables that should be used to model them in Python, explaining your rationale.**"
   ]
  },
  {
   "cell_type": "code",
   "execution_count": 3,
   "metadata": {},
   "outputs": [
    {
     "data": {
      "text/plain": [
       "Text(0, 0.5, 'Body Mass')"
      ]
     },
     "execution_count": 3,
     "metadata": {},
     "output_type": "execute_result"
    },
    {
     "data": {
      "image/png": "[encoded data removed]",
      "text/plain": [
       "<Figure size 640x480 with 1 Axes>"
      ]
     },
     "metadata": {},
     "output_type": "display_data"
    }
   ],
   "source": [
    "# Import Libraries\n",
    "import pandas as pd\n",
    "import seaborn as sns\n",
    "\n",
    "# Import File\n",
    "df = pd.read_csv('data/penguins.csv')\n",
    "\n",
    "# Box Plot\n",
    "g = sns.boxplot(x = 'island', y='body_mass_g', hue='species', data = df, palette=['#FF8C00','#159090','#A034F0'], linewidth=0.5)\n",
    "g.set_xlabel('Island')\n",
    "g.set_ylabel('Body Mass')\n",
    "\n"
   ]
  },
  {
   "cell_type": "markdown",
   "metadata": {},
   "source": [
    "The above example is taken from the first section of the README.md file for @mcnakhaee's [palmerpenguins GitHub repo](https://github.com/mcnakhaee/palmerpenguins)"
   ]
  },
  {
   "cell_type": "markdown",
   "metadata": {},
   "source": [
    "### Identifying The DataTypes From The Dataset"
   ]
  },
  {
   "cell_type": "code",
   "execution_count": 3,
   "metadata": {},
   "outputs": [
    {
     "name": "stdout",
     "output_type": "stream",
     "text": [
      "species               object\n",
      "island                object\n",
      "bill_length_mm       float64\n",
      "bill_depth_mm        float64\n",
      "flipper_length_mm    float64\n",
      "body_mass_g          float64\n",
      "sex                   object\n",
      "dtype: object\n"
     ]
    }
   ],
   "source": [
    "# Import Libraries\n",
    "import pandas as pd\n",
    "import seaborn as sns\n",
    "\n",
    "# Import File\n",
    "df = pd.read_csv('data/penguins.csv')\n",
    "\n",
    "# Print Data Types For Each Column\n",
    "print(df.dtypes)\n",
    "\n"
   ]
  },
  {
   "cell_type": "markdown",
   "metadata": {},
   "source": [
    "## Types of Variables\n",
    "> References:\n",
    "> [Laerd Statistics - Types of Variables](https://statistics.laerd.com/statistical-guides/types-of-variable.php) \n",
    ">\n",
    "> [*Numeracy* - McKenna, Chang & Brinkerhoff (2023)] (https://uen.pressbooks.pub/uvumqr/) - Particular focus on Chapter 4 Section 3 - Types of Data And Appropriate Representations\n",
    ">\n",
    "> [*Hands-On Data Analysis with Pandas* - Stefanie Molin (2019)]\n",
    ">\n",
    ">![Image](https://m.media-amazon.com/images/I/71fe9zjm3yL._AC_UF350,350_QL50_.jpg)\n",
    "\n",
    "> The Laerd Statistics page (link above) refers to two types of variables - Categorical and Continuous. \n",
    ">\n",
    "> According to Molin (2019), data can either be \"**quantitative (measurable quantities) or categorical (descriptions, groupings or categories)**\". Within these two classes, Molin breaks them down into subclasses which are similar to the variables identified by the Laerd Statistics breakdown. \n",
    ">\n",
    "> infogram.com contains a very useful diagram for identifying the right type of visualisation for your data. \n",
    ">\n",
    "> ![Image](https://d1fq16qvu9tpz9.cloudfront.net/uploads/ckeditor/pictures/26/content_select_chart_type.jpg)\n",
    ">\n",
    "> #### Categorical Variables (Qualitative Data)\n",
    ">\n",
    ">**Nominal Variables** are variables that have two or more categories, but which do not have an intrinsic order. The *penguin species* and *island* would qualify as a nominal variable as there are two or more distinct categories without any order on those categories. \n",
    ">\n",
    "> According to *McKenna, Chang & Brinkerhoff*, nominal data is \"visually represented using a pie chart\".\n",
    "\n",
    ">\n",
    ">**Dichotomous Variables** are nominal variables which have only two categories or levels. The *penguin sex* would qualify as a dichotomous variable as there are only two - the penguin is either male or female. \n",
    ">\n",
    ">**Ordinal Variables** are variables that have two or more categories just like nominal variables only the categories can also be ordered or ranked. There are no examples of this in the dataset however an example of this would be a difficulty level within a video game such as *Easy*, *Middle*, *Hard*\n",
    ">\n",
    "> According to *McKenna, Chang & Brinkerhoff*, ordinal data is \"commonly represented using bar chart\".\n",
    ">\n",
    ">\n",
    "> #### Continuous Variables\n",
    ">\n",
    "> **Interval Variables** are variables for which their central characteristic is that they can be measured along a continuum and they have a numerical value (for example, temperature measured in degrees Celsius or Fahrenheit) *Bill length*, *bill depth*, *flipper length* and *body mass* are all examples of interval variables as these measurements are measured along a continuum (centimetres and grams)\n",
    ">\n",
    "> **Ratio Variables** are interval variables, but with the added condition that 0 (zero) of the measurement indicates that there is none of that variable. From the penguin dataset, examples of this would be *bill length*, *bill depth*, *flipper length* and *body mass*. \n"
   ]
  },
  {
   "cell_type": "markdown",
   "metadata": {},
   "source": [
    "***\n",
    "**End**"
   ]
  },
  {
   "cell_type": "markdown",
   "metadata": {},
   "source": []
  }
 ],
 "metadata": {
  "kernelspec": {
   "display_name": "base",
   "language": "python",
   "name": "python3"
  },
  "language_info": {
   "codemirror_mode": {
    "name": "ipython",
    "version": 3
   },
   "file_extension": ".py",
   "mimetype": "text/x-python",
   "name": "python",
   "nbconvert_exporter": "python",
   "pygments_lexer": "ipython3",
   "version": "3.9.13"
  },
  "orig_nbformat": 4
 },
 "nbformat": 4,
 "nbformat_minor": 2
}

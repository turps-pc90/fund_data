{
 "cells": [
  {
   "cell_type": "markdown",
   "metadata": {},
   "source": [
    "# Fundamentals of Data Analysis Tasks\n",
    "\n",
    "**Paul Callaghan**\n",
    "***"
   ]
  },
  {
   "cell_type": "markdown",
   "metadata": {},
   "source": [
    "## Task 1 - The Collatz Conjecture\n",
    "> The Collatz conjecture1 is a famous unsolved problem in mathematics. The problem is to prove that if you start with any positive\n",
    "> integer x and repeatedly apply the function $ f(x) $ below, you always get stuck in the repeating sequence 1, 4, 2, 1, 4, 2, .\n",
    "> \n",
    "> Your task is to verify, using Python, that the conjecture is true for the first 10,000 positive integers."
   ]
  },
  {
   "cell_type": "markdown",
   "metadata": {},
   "source": [
    "### x is user-inputted argument"
   ]
  },
  {
   "cell_type": "code",
   "execution_count": 1,
   "metadata": {},
   "outputs": [],
   "source": [
    "x = int(input(\"Enter a number between 1-10000\"))"
   ]
  },
  {
   "cell_type": "code",
   "execution_count": 2,
   "metadata": {},
   "outputs": [],
   "source": [
    "def f(x):\n",
    "    # If x is even, divide it by two.\n",
    "    if x % 2 == 0:\n",
    "        # // Integer division\n",
    "        return x // 2\n",
    "    else:\n",
    "        return (3 * x) + 1"
   ]
  },
  {
   "cell_type": "code",
   "execution_count": 3,
   "metadata": {},
   "outputs": [],
   "source": [
    "def collatz(x):\n",
    "    print(f'Testing Collatz Conjecture with initial (user-inputted) value {x}')    \n",
    "    while x != 1:\n",
    "        print(x, end=', ')\n",
    "        x = f(x)\n",
    "    print(x)    "
   ]
  },
  {
   "cell_type": "code",
   "execution_count": 4,
   "metadata": {},
   "outputs": [
    {
     "name": "stdout",
     "output_type": "stream",
     "text": [
      "Testing Collatz Conjecture with initial (user-inputted) value 53\n",
      "53, 160, 80, 40, 20, 10, 5, 16, 8, 4, 2, 1\n"
     ]
    }
   ],
   "source": [
    "collatz(x)"
   ]
  },
  {
   "cell_type": "markdown",
   "metadata": {},
   "source": [
    "### Testing Collatz Conjecture For Range: 1-10001 \n",
    "> Combining the code from Ian's lecture with a for loop and range of 1-10,001 to cover the first ten thousand positve integers"
   ]
  },
  {
   "cell_type": "code",
   "execution_count": 3,
   "metadata": {},
   "outputs": [
    {
     "name": "stdout",
     "output_type": "stream",
     "text": [
      "There are 10000 true results. There are 0 false results\n"
     ]
    }
   ],
   "source": [
    "def range_f(y):\n",
    "    # If y is even, divide it by two.\n",
    "    if y % 2 == 0:\n",
    "        # // Integer Division\n",
    "        return y // 2\n",
    "    else:\n",
    "        return (3 * y) + 1\n",
    "    \n",
    "def range_collatz(y):\n",
    "    while y != 1:\n",
    "        y = range_f(y)        \n",
    "    return True\n",
    "        \n",
    "        \n",
    "# Initialise count for number of true and false returns\n",
    "true_count = 0\n",
    "false_count = 0\n",
    "\n",
    "# Testing Collatz Conjecture for first 10,000 positive integers\n",
    "for i in range(1, 10001):\n",
    "    if range_collatz(i):\n",
    "        true_count += 1\n",
    "    else:\n",
    "        false_count += 1\n",
    "        \n",
    "\n",
    "# Printing counts\n",
    "print(f\"There are {true_count} true results. There are {false_count} false results\")\n",
    "    "
   ]
  },
  {
   "cell_type": "markdown",
   "metadata": {},
   "source": [
    "***\n",
    "## Task 2 - The Penguin Dataset\n",
    "> Penguins Dataset sourced from https://github.com/allisonhorst/palmerpenguins\n",
    "\n",
    ">**Give an overview of the famous penguins data set explaining the types of variables it contains. \n",
    "> Suggest the types of variables that should be used to model them in Python, explaining your rationale.**"
   ]
  },
  {
   "cell_type": "markdown",
   "metadata": {},
   "source": [
    "> ### Academic References\n",
    ">\n",
    "> - Horst, A. (2022). Palmer Penguins. Retrieved from: https://github.com/allisonhorst/palmerpenguins.\n",
    ">\n",
    "> - Pandey, P. (2018). Penguin Dataset - The New Iris. Kaggle. Retrieved from: https://www.kaggle.com/code/parulpandey/penguin-dataset-the-new-iris.\n",
    ">\n",
    "> - Towards Data Science. (2020). Penguins Dataset Overview: Iris Alternative. Retrieved from: https://towardsdatascience.com/penguins-dataset-overview-iris-alternative-9453bb8c8d95.\n",
    ">\n",
    "> - [Laerd Statistics - Types of Variables](https://statistics.laerd.com/statistical-guides/types-of-variable.php) \n",
    ">\n",
    "> - [*Numeracy* - McKenna, Chang & Brinkerhoff (2023)] (https://uen.pressbooks.pub/uvumqr/) - Particular focus on Chapter 4 Section 3 - Types of Data And Appropriate Representations\n",
    "> ![Image](https://uen.pressbooks.pub/app/uploads/sites/202/2023/01/Numeracy-Front-Cover-2-350x453.png)\n",
    ">\n",
    "> - [*Hands-On Data Analysis with Pandas* - Stefanie Molin (2019)]\n",
    ">![Image](https://m.media-amazon.com/images/I/71fe9zjm3yL._AC_UF350,350_QL50_.jpg)\n",
    "\n",
    ">### Technical References\n",
    "> - IBM. (n.d.). Markdown and HTML quick reference. Retrieved from: https://www.ibm.com/docs/en/watson-studio-local/1.2.3?topic=notebooks-markdown-jupyter-cheatsheet.\n",
    ">\n",
    "> - [Seaborn Documentation](https://seaborn.pydata.org/generated/seaborn.histplot.html)\n",
    ">\n",
    "> - [MatPlotLib Documentation](https://matplotlib.org/stable/api/_as_gen/matplotlib.pyplot.subplots.html) - Particular focus on examples of subplotting to assist with layout of two plots from one script. Seen below. \n"
   ]
  },
  {
   "cell_type": "markdown",
   "metadata": {},
   "source": [
    "The penguins dataset is seen as an alternative to the Fisher's Iris dataset and comes from Allison Horst's June 2020 Github repository called Palmer Penguins. She credits the data to [Dr Kristen Gorman](https://www.uaf.edu/cfos/people/faculty/detail/kristen-gorman.php) and the [Palmer Station (of the Antartica Long Term Ecological Research Network)](https://pallter.marine.rutgers.edu/). Horst's intention was to **\"provide a great dataset for data exploration & visualsiaton, as an alternative to iris\"**. \n",
    "\n",
    "Abdul Majed Raja [wrote an overview to the penguins dataset](https://towardsdatascience.com/penguins-dataset-overview-iris-alternative-9453bb8c8d95) in his article published on TowardsDataScience in June 2020, one week after Horst first commit to her repository. One thing in particular that he praises the dataset for is for the rows of missing values as it is important for educational purposes. He credits the dataset as being suited to teaching **\"correlation, regression, classification and also could be used to teach Data Visualizations\"**.\n"
   ]
  },
  {
   "cell_type": "markdown",
   "metadata": {},
   "source": [
    "### Identifying The DataTypes From The Dataset"
   ]
  },
  {
   "cell_type": "code",
   "execution_count": 8,
   "metadata": {},
   "outputs": [
    {
     "name": "stdout",
     "output_type": "stream",
     "text": [
      "species               object\n",
      "island                object\n",
      "bill_length_mm       float64\n",
      "bill_depth_mm        float64\n",
      "flipper_length_mm    float64\n",
      "body_mass_g          float64\n",
      "sex                   object\n",
      "dtype: object\n"
     ]
    }
   ],
   "source": [
    "# Import Libraries\n",
    "import pandas as pd\n",
    "import seaborn as sns\n",
    "\n",
    "# Import File\n",
    "df = pd.read_csv('data/penguins.csv')\n",
    "\n",
    "# Print Data Types For Each Column\n",
    "print(df.dtypes)"
   ]
  },
  {
   "cell_type": "markdown",
   "metadata": {},
   "source": [
    "\n",
    "### Types of Variables\n",
    "> According to Molin (2019), data can either be \"**quantitative (measurable quantities) or categorical (descriptions, groupings or categories)**\". Within these two classes, Molin breaks them down into subclasses which are similar to the variables identified by the Laerd Statistics breakdown. \n",
    ">\n",
    "> [Infogram.com](https://infogram.com/page/choose-the-right-chart-data-visualization) contains a very useful diagram for identifying the right type of visualisation for your data. \n",
    ">\n",
    "> ![Image](https://d1fq16qvu9tpz9.cloudfront.net/uploads/ckeditor/pictures/26/content_select_chart_type.jpg)\n",
    ">\n",
    "> #### Categorical Variables (Qualitative Data)\n",
    ">\n",
    ">**Nominal Variables** are variables that have two or more categories, but which do not have an intrinsic order. The *penguin species* and *island* would qualify as a nominal variable as there are two or more distinct categories without any order on those categories. \n",
    ">\n",
    "> According to *McKenna, Chang & Brinkerhoff*, nominal data is \"visually represented using a pie chart\". \n",
    ">\n",
    ">\n",
    ">**Dichotomous Variables** are nominal variables which have only two categories or levels. The *penguin sex* would qualify as a dichotomous variable as there are only two - the penguin is either male or female. \n",
    ">\n",
    ">**Ordinal Variables** are variables that have two or more categories just like nominal variables only the categories can also be ordered or ranked. There are no examples of this in the dataset however an example of this would be a difficulty level within a video game such as *Easy*, *Middle*, *Hard*\n",
    ">\n",
    "> According to *McKenna, Chang & Brinkerhoff*, ordinal data is \"commonly represented using bar chart\". It would also be appropriate for dichotomous variables. \n",
    ">\n",
    ">\n",
    "> #### Continuous Variables\n",
    ">\n",
    "> **Interval Variables** are variables for which their central characteristic is that they can be measured along a continuum and they have a numerical value (for example, temperature measured in degrees Celsius or Fahrenheit) *Bill length*, *bill depth*, *flipper length* and *body mass* are all examples of interval variables as these measurements are measured along a continuum (centimetres and grams)\n",
    ">\n",
    "> **Ratio Variables** are interval variables, but with the added condition that 0 (zero) of the measurement indicates that there is none of that variable. From the penguin dataset, examples of this would be *bill length*, *bill depth*, *flipper length* and *body mass*. \n",
    ">\n",
    "> According to [StatisticsByJim](https://statisticsbyjim.com/basics/data-types), \"histograms are a standard way to graph continuous variables because they show the distribution of the values\".\n"
   ]
  },
  {
   "cell_type": "markdown",
   "metadata": {},
   "source": [
    "### Charting Sample Of Penguin Data Based On Research"
   ]
  },
  {
   "cell_type": "code",
   "execution_count": 14,
   "metadata": {},
   "outputs": [
    {
     "data": {
      "image/png": "[encoded data removed]",
      "text/plain": [
       "<Figure size 640x480 with 2 Axes>"
      ]
     },
     "metadata": {},
     "output_type": "display_data"
    }
   ],
   "source": [
    "# Import Libraries\n",
    "import pandas as pd\n",
    "import seaborn as sns\n",
    "import matplotlib.pyplot as plt\n",
    "\n",
    "# Import File\n",
    "df = pd.read_csv('data/penguins.csv')\n",
    "\n",
    "# Bar Chart To Show Breakdown of Male vs Female Penguins\n",
    "plt.subplot(2, 2, 1)\n",
    "g = sns.countplot(x = 'island', hue='sex', data = df, palette='pastel', linewidth=0.5)\n",
    "g.set_xlabel('Island')\n",
    "g.set_ylabel('Count of Penguins')\n",
    "g.set_title('Male vs Female Penguins Per Island')\n",
    "\n",
    "# Histogram To Show Slipper Length X Species\n",
    "plt.subplot(2, 1, 2) \n",
    "g2 = sns.histplot(data=df, x=\"flipper_length_mm\", hue=\"species\", element=\"step\", kde=True, palette=\"husl\")\n",
    "g2.set_xlabel(\"Flipper Length (mm)\")\n",
    "g2.set_ylabel(\"Count\")\n",
    "g2.set_title(\"Distribution of Flipper Length by Species\")\n",
    "\n",
    "# Show The Plot\n",
    "plt.tight_layout()\n",
    "plt.show()"
   ]
  },
  {
   "cell_type": "markdown",
   "metadata": {},
   "source": [
    "***\n",
    "## Task 3 - Variables For The Penguin Dataset"
   ]
  },
  {
   "cell_type": "markdown",
   "metadata": {},
   "source": [
    "> **For each of the variables in the penguins data set suggest what probability distribution from the NumPy random distributions list is the most appropriate to model the variable.**"
   ]
  },
  {
   "cell_type": "markdown",
   "metadata": {},
   "source": [
    "> ### Academic References\n",
    "> - Korstanje, J. (2020, September 15). 7 Statistical Distributions That Every Data Scientist Should Know with Intuitive Explanations. Towards Data Science. Retrieved from: https://towardsdatascience.com/7-statistical-distributions-that-every-data-scientist-should-know-with-intuitive-explanations-bf967db81f0b.\n",
    ">\n",
    "> - 365 Data Science. (n.d.). Introduction to Statistics | Statistics for Data Science | Statistics Tutorial. Retrieved from: https://www.youtube.com/watch?v=b9a27XN_6tg.\n",
    ">\n",
    "> - Adhikari, A., DeNero, J., & Wagner, D. (2022). Computational and Inferential Thinking: The Foundations of Data Science (2nd ed.). Retrieved from: https://inferentialthinking.com/chapters/intro.html.\n",
    ">\n",
    "> - Wikipedia. (n.d.). Categorical distribution. Retrieved from: https://en.wikipedia.org/wiki/Categorical_distribution.\n",
    ">\n",
    "\n",
    ">### Technical References\n",
    "> - IBM. (n.d.). Markdown and HTML quick reference. Retrieved from: https://www.ibm.com/docs/en/watson-studio-local/1.2.3?topic=notebooks-markdown-jupyter-cheatsheet.\n",
    ">\n",
    "> - Riches, O. D. (n.d.). LaTeX Cheat Sheet. Retrieved from: https://users.dickinson.edu/~richesod/latex/latexcheatsheet.pdf."
   ]
  },
  {
   "cell_type": "markdown",
   "metadata": {},
   "source": [
    "The Penguin Dataset contains seven variables as listed below - \n",
    "- *Species*\n",
    "- *Island* \n",
    "- *Bill Length (mm)*\n",
    "- *Bill Depth (mm)*\n",
    "- *Flipper Length (mm)*\n",
    "- *Body Mass (g)*\n",
    "- *Sex*"
   ]
  },
  {
   "cell_type": "code",
   "execution_count": 2,
   "metadata": {},
   "outputs": [
    {
     "name": "stdout",
     "output_type": "stream",
     "text": [
      "<bound method NDFrame.head of     species     island  bill_length_mm  bill_depth_mm  flipper_length_mm  \\\n",
      "0    Adelie  Torgersen            39.1           18.7              181.0   \n",
      "1    Adelie  Torgersen            39.5           17.4              186.0   \n",
      "2    Adelie  Torgersen            40.3           18.0              195.0   \n",
      "3    Adelie  Torgersen             NaN            NaN                NaN   \n",
      "4    Adelie  Torgersen            36.7           19.3              193.0   \n",
      "..      ...        ...             ...            ...                ...   \n",
      "339  Gentoo     Biscoe             NaN            NaN                NaN   \n",
      "340  Gentoo     Biscoe            46.8           14.3              215.0   \n",
      "341  Gentoo     Biscoe            50.4           15.7              222.0   \n",
      "342  Gentoo     Biscoe            45.2           14.8              212.0   \n",
      "343  Gentoo     Biscoe            49.9           16.1              213.0   \n",
      "\n",
      "     body_mass_g     sex  \n",
      "0         3750.0    MALE  \n",
      "1         3800.0  FEMALE  \n",
      "2         3250.0  FEMALE  \n",
      "3            NaN     NaN  \n",
      "4         3450.0  FEMALE  \n",
      "..           ...     ...  \n",
      "339          NaN     NaN  \n",
      "340       4850.0  FEMALE  \n",
      "341       5750.0    MALE  \n",
      "342       5200.0  FEMALE  \n",
      "343       5400.0    MALE  \n",
      "\n",
      "[344 rows x 7 columns]> <bound method NDFrame.tail of     species     island  bill_length_mm  bill_depth_mm  flipper_length_mm  \\\n",
      "0    Adelie  Torgersen            39.1           18.7              181.0   \n",
      "1    Adelie  Torgersen            39.5           17.4              186.0   \n",
      "2    Adelie  Torgersen            40.3           18.0              195.0   \n",
      "3    Adelie  Torgersen             NaN            NaN                NaN   \n",
      "4    Adelie  Torgersen            36.7           19.3              193.0   \n",
      "..      ...        ...             ...            ...                ...   \n",
      "339  Gentoo     Biscoe             NaN            NaN                NaN   \n",
      "340  Gentoo     Biscoe            46.8           14.3              215.0   \n",
      "341  Gentoo     Biscoe            50.4           15.7              222.0   \n",
      "342  Gentoo     Biscoe            45.2           14.8              212.0   \n",
      "343  Gentoo     Biscoe            49.9           16.1              213.0   \n",
      "\n",
      "     body_mass_g     sex  \n",
      "0         3750.0    MALE  \n",
      "1         3800.0  FEMALE  \n",
      "2         3250.0  FEMALE  \n",
      "3            NaN     NaN  \n",
      "4         3450.0  FEMALE  \n",
      "..           ...     ...  \n",
      "339          NaN     NaN  \n",
      "340       4850.0  FEMALE  \n",
      "341       5750.0    MALE  \n",
      "342       5200.0  FEMALE  \n",
      "343       5400.0    MALE  \n",
      "\n",
      "[344 rows x 7 columns]>\n"
     ]
    }
   ],
   "source": [
    "# Library Imports\n",
    "import pandas as pd\n",
    "\n",
    "# Read CSV files to create DataFrames\n",
    "df = pd.read_csv('data/penguins.csv')\n",
    "\n",
    "# Print df.head and df.tail to check that file has been read correctly\n",
    "print(df.head, df.tail)"
   ]
  },
  {
   "cell_type": "markdown",
   "metadata": {},
   "source": [
    "#### Species\n",
    "A categorical distribution is described as a \"variable with more than two possible outcomes, such as the roll of a dice\" ([Wikipedia, n.d.](https://en.wikipedia.org/wiki/Categorical_distribution)). As there are multiple possible outcomes for a species of penguin, I believe this one fits the bill for the species variable. \n",
    "\n",
    "The bar chart is considered \"a familiar way of visualizing categorical distributions\".(Adhikari et al., 2022)"
   ]
  },
  {
   "cell_type": "code",
   "execution_count": 7,
   "metadata": {},
   "outputs": [
    {
     "data": {
      "text/plain": [
       "Text(0.5, 1.0, 'Distribution of Penguin Species')"
      ]
     },
     "execution_count": 7,
     "metadata": {},
     "output_type": "execute_result"
    },
    {
     "data": {
      "image/png": "[encoded data removed]",
      "text/plain": [
       "<Figure size 640x480 with 1 Axes>"
      ]
     },
     "metadata": {},
     "output_type": "display_data"
    }
   ],
   "source": [
    "# Library Imports\n",
    "import matplotlib.pyplot as plt\n",
    "\n",
    "# Bar Chart To Show Breakdown of Penguin Species\n",
    "plt.subplot(2, 2, 1)\n",
    "g = sns.countplot(x = 'species', data = df, palette='pastel', linewidth=0.5)\n",
    "g.set_xlabel('Species')\n",
    "g.set_ylabel('Count of Penguins')\n",
    "g.set_title('Distribution of Penguin Species')"
   ]
  },
  {
   "cell_type": "markdown",
   "metadata": {},
   "source": []
  },
  {
   "cell_type": "code",
   "execution_count": null,
   "metadata": {},
   "outputs": [],
   "source": []
  },
  {
   "cell_type": "markdown",
   "metadata": {},
   "source": []
  },
  {
   "cell_type": "code",
   "execution_count": null,
   "metadata": {},
   "outputs": [],
   "source": []
  },
  {
   "cell_type": "markdown",
   "metadata": {},
   "source": [
    "***\n",
    "**End**"
   ]
  },
  {
   "cell_type": "markdown",
   "metadata": {},
   "source": []
  }
 ],
 "metadata": {
  "kernelspec": {
   "display_name": "base",
   "language": "python",
   "name": "python3"
  },
  "language_info": {
   "codemirror_mode": {
    "name": "ipython",
    "version": 3
   },
   "file_extension": ".py",
   "mimetype": "text/x-python",
   "name": "python",
   "nbconvert_exporter": "python",
   "pygments_lexer": "ipython3",
   "version": "3.10.9"
  },
  "orig_nbformat": 4
 },
 "nbformat": 4,
 "nbformat_minor": 2
}
